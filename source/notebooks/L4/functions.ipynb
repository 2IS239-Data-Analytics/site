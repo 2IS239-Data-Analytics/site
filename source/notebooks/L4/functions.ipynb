{
 "cells": [
  {
   "cell_type": "markdown",
   "metadata": {},
   "source": [
    "# Functions\n",
    "\n",
    "## Sources\n",
    "\n",
    "This lesson is partly based on the [Software Carpentry group's](http://software-carpentry.org/) lessons on [Programming with Python](http://swcarpentry.github.io/python-novice-inflammation/)."
   ]
  },
  {
   "cell_type": "markdown",
   "metadata": {},
   "source": [
    "## What is a function?\n",
    "\n",
    "A function is a block of organized, reusable code that can make your scripts more effective, easier to read, and simple to manage.\n",
    "You can think functions as little self-contained programs that can perform a specific task which you can use repeatedly in your code.\n",
    "One of the basic principles in good programming is \"do not to repeat yourself\".\n",
    "In other words, you should avoid having duplicate lines of code in your scripts.\n",
    "Functions are a good way to avoid such situations and they can save you a lot of time and effort as you don't need to tell the computer repeatedly what to do every time it does a common task, such as converting temperatures from Fahrenheit to Celsius.\n",
    "During the course we have already used some functions such as the `print()` command which is actually a built-in function in Python."
   ]
  },
  {
   "cell_type": "markdown",
   "metadata": {},
   "source": [
    "## Anatomy of a function\n",
    "\n",
    "Let's consider the task from the first lesson when we converted temperatures from Celsius to Fahrenheit.\n",
    "Such an operation is a fairly common task when dealing with temperature data.\n",
    "Thus we might need to repeat such calculations quite frequently when analysing or comparing weather or climate data between the US and Europe, for example.\n",
    "\n",
    "### Our first function (aww...)\n",
    "\n",
    "Let's define our first function called `celsiusToFahr`."
   ]
  },
  {
   "cell_type": "code",
   "execution_count": 1,
   "metadata": {},
   "outputs": [],
   "source": [
    "def celsiusToFahr(tempCelsius):\n",
    "    return 9/5 * tempCelsius + 32"
   ]
  },
  {
   "cell_type": "markdown",
   "metadata": {},
   "source": [
    "<figure>\n",
    "  <img src=\"img/Function_anatomy.png\" alt=\"Anatomy of a function\" width=\"400\"/>\n",
    "  <figcaption>Anatomy of a function.</figcaption>\n",
    "</figure> \n",
    "\n",
    "The function definition opens with the keyword `def` followed by the name of the function and a list of parameter names in parentheses.\n",
    "The body of the function — the statements that are executed when it runs — is indented below the definition line.\n",
    "\n",
    "When we call the function, the values we pass to it are assigned to the corresponding parameter variables so that we can use them inside the function (e.g., the variable `tempCelsius` in this function example).\n",
    "Inside the function, we use a `return` statement to define the value that should be given back when the function is used, or called)."
   ]
  },
  {
   "cell_type": "markdown",
   "metadata": {},
   "source": [
    "## Calling functions\n",
    "\n",
    "### Using our new function\n",
    "\n",
    "Now let's try using our function.\n",
    "Calling our self-defined function is no different from calling any other function such as `print()`.\n",
    "You need to call it with its name and send your value to the required parameter(s) inside the parentheses."
   ]
  },
  {
   "cell_type": "code",
   "execution_count": 2,
   "metadata": {},
   "outputs": [],
   "source": [
    "freezingPoint =  celsiusToFahr(0)"
   ]
  },
  {
   "cell_type": "code",
   "execution_count": 3,
   "metadata": {},
   "outputs": [
    {
     "name": "stdout",
     "output_type": "stream",
     "text": [
      "The freezing point of water in Fahrenheit is: 32.0\n"
     ]
    }
   ],
   "source": [
    "print('The freezing point of water in Fahrenheit is:', freezingPoint)"
   ]
  },
  {
   "cell_type": "code",
   "execution_count": 4,
   "metadata": {},
   "outputs": [
    {
     "name": "stdout",
     "output_type": "stream",
     "text": [
      "The boiling point of water in Fahrenheit is: 212.0\n"
     ]
    }
   ],
   "source": [
    "print('The boiling point of water in Fahrenheit is:', celsiusToFahr(100))"
   ]
  },
  {
   "cell_type": "markdown",
   "metadata": {},
   "source": [
    "### Let's make another function\n",
    "\n",
    "Now that we know how to create a function to convert Celsius to Fahrenheit, let’s create another function called `kelvinsToCelsius`."
   ]
  },
  {
   "cell_type": "code",
   "execution_count": 14,
   "metadata": {},
   "outputs": [],
   "source": [
    "def kelvinsToCelsius(tempKelvins):\n",
    "    return tempKelvins - 273.15"
   ]
  },
  {
   "cell_type": "markdown",
   "metadata": {},
   "source": [
    "### Using our second function\n",
    "\n",
    "Let's use it in the same way as the earlier one."
   ]
  },
  {
   "cell_type": "code",
   "execution_count": 6,
   "metadata": {},
   "outputs": [],
   "source": [
    "absoluteZero = kelvinsToCelsius(tempKelvins=0)"
   ]
  },
  {
   "cell_type": "code",
   "execution_count": 7,
   "metadata": {},
   "outputs": [
    {
     "name": "stdout",
     "output_type": "stream",
     "text": [
      "Absolute zero in Celsius is: -273.15\n"
     ]
    }
   ],
   "source": [
    "print('Absolute zero in Celsius is:', absoluteZero)"
   ]
  },
  {
   "cell_type": "markdown",
   "metadata": {},
   "source": [
    "### Funtions within a function (Yo dawg...)\n",
    "\n",
    "What about converting Kelvins to Fahrenheit?\n",
    "We could write out a new formula for it, but we don’t need to.\n",
    "Instead, we can do the conversion using the two functions we have already created and calling those from the function we are now creating."
   ]
  },
  {
   "cell_type": "code",
   "execution_count": 15,
   "metadata": {},
   "outputs": [],
   "source": [
    "def kelvinsToFahrenheit(tempKelvins):\n",
    "    tempCelsius = kelvinsToCelsius(tempKelvins)\n",
    "    tempFahr = celsiusToFahr(tempCelsius)\n",
    "    return tempFahr"
   ]
  },
  {
   "cell_type": "markdown",
   "metadata": {},
   "source": [
    "### Using our combined functions\n",
    "\n",
    "Now let's use the function."
   ]
  },
  {
   "cell_type": "code",
   "execution_count": 12,
   "metadata": {},
   "outputs": [],
   "source": [
    "absoluteZeroF = kelvinsToFahrenheit(tempKelvins=0)"
   ]
  },
  {
   "cell_type": "code",
   "execution_count": 13,
   "metadata": {},
   "outputs": [
    {
     "name": "stdout",
     "output_type": "stream",
     "text": [
      "Absolute zero in Fahrenheit is: -459.66999999999996\n"
     ]
    }
   ],
   "source": [
    "print('Absolute zero in Fahrenheit is:', absoluteZeroF)"
   ]
  },
  {
   "cell_type": "markdown",
   "metadata": {},
   "source": [
    "## An introduction to script files\n",
    "\n",
    "Up until this point we have been keeping our Python code and Markdown comments in a single Jupyter notebook document.\n",
    "This is great, but there are some cases, like when you have long Python code blocks or a set of functions used in many notebooks, in which you may want to have Python code in a separate document to make sure your Jupyter notebook is easy to read.\n",
    "An alternative to typing in all of the commands you would like to run is the list them in a Python *script file*.\n",
    "A Python script file is simply a file containing a list of the commands you would like to run, normally with one command per line, and formatted in the same way as if you were to type them in.\n",
    "Python script files traditionally use the `.py` file extension in their names.\n",
    "\n",
    "### The general concept of a .py script file\n",
    "\n",
    "A Python script file is simply a list of commands that you might otherwise type into a Python cell in a Jupyter notebook or a Python console.\n",
    "As such, we can quite easily create a basic script file and test things out.\n",
    "\n",
    "### Getting started\n",
    "\n",
    "First, we need to create a new text file by clicking on **File** -> **New** -> **Text File** in the JupyterLab menu bar.\n",
    "\n",
    "<figure>\n",
    "  <img src=\"img/new-text-file.png\" alt=\"Creating a new text file\" width=\"400\"/>\n",
    "  <figcaption>Creating a new text file in JupyterLab.</figcaption>\n",
    "</figure> \n",
    "\n",
    "This will create a new tab in your JupyterLab window that should look something like that below, a blank slate.\n",
    "\n",
    "<figure>\n",
    "  <img src=\"img/new-text-tab.png\" alt=\"Our new text file\" width=\"800\"/>\n",
    "  <figcaption>Our new text file in JupyterLab.</figcaption>\n",
    "</figure> \n",
    "\n",
    "Start by copying and pasting the text below into your new text file editor panel.\n",
    "\n",
    "```python\n",
    "def celsiusToFahr(tempCelsius):\n",
    "    return 9/5 * tempCelsius + 32\n",
    "```"
   ]
  },
  {
   "cell_type": "markdown",
   "metadata": {},
   "source": [
    "### Saving a text file as a Python file\n",
    "\n",
    "As it turns out, Python scripts are just regular text files with a certain file extension to identify them as source code for Python.\n",
    "In order for our new text file to be detected as a Python source file in JupyterLab we need to rename it to have a `.py` file extension.\n",
    "You can rename the file by right clicking on the tab titled \"untitled.txt\" and renaming it as \"temp_converter.py\".\n",
    "\n",
    "<div class=\"alert alert-info\">\n",
    "\n",
    "**Note**\n",
    "\n",
    "Be sure you change the `.txt` file extension to `.py`.\n",
    "\n",
    "</div>\n",
    "\n",
    "<figure>\n",
    "  <img src=\"img/rename-file-part-1.png\" alt=\"Renaming a text file\" width=\"600\"/>\n",
    "  <figcaption>Renaming a text file in JupyterLab.</figcaption>\n",
    "</figure>\n",
    "\n",
    "<figure>\n",
    "  <img src=\"img/rename-file-part-2.png\" alt=\"Renaming a text file, part 2\" width=\"300\"/>\n",
    "  <figcaption>Changing the file name in JupyterLab.</figcaption>\n",
    "</figure>\n",
    "\n",
    "If all goes well, you should now see the Python syntax is highlighted in different colors in the JupyterLab editor panel.\n",
    "\n",
    "<div class=\"alert alert-info\">\n",
    "\n",
    "**Note**\n",
    "\n",
    "Be sure to save your `temp_converter.py` file after making your changes.\n",
    "\n",
    "</div>\n",
    "\n",
    "We'll return later to some best practices for writing script files, but for now let's continue with how to use our functions saved in the Python file we just created."
   ]
  },
  {
   "cell_type": "markdown",
   "metadata": {},
   "source": [
    "## Saving and loading functions\n",
    "\n",
    "Functions such as the ones we just created can also be saved in a script file and called from Jupyter notebooks in JupyterLab.\n",
    "In fact, quite often it is useful to create a dedicated function library for functions that you use frequently, when doing data analysis, for example.\n",
    "Basically this is done by listing useful functions in a single `.py` file from which you can then import and use them whenever needed.\n",
    "\n",
    "### Saving functions in a script file\n",
    "\n",
    "Basically, we've just seen how to save some functions to a script file.\n",
    "Let's now add the other functions we had been using to our script.\n",
    "Simply copy and paste the text below into your `temp_converter.py` file leaving one blank line between each function.\n",
    "\n",
    "```python\n",
    "def kelvinsToCelsius(tempKelvins):\n",
    "    return tempKelvins - 273.15\n",
    "```\n",
    "\n",
    "```python\n",
    "def kelvinsToFahrenheit(tempKelvins):\n",
    "    tempCelsius = kelvinsToCelsius(tempKelvins)\n",
    "    tempFahr = celsiusToFahr(tempCelsius)\n",
    "    return tempFahr\n",
    "```\n",
    "\n",
    "Don't forget to save your changes!"
   ]
  },
  {
   "cell_type": "markdown",
   "metadata": {},
   "source": [
    "## Calling functions from a script file\n",
    "\n",
    "Now that we have saved our temperature conversion functions into a script file we can start using them.\n",
    "\n",
    "### Making sure we're in the right working directory\n",
    "\n",
    "Hopefully you have saved you `temp_converter.py` file in the same location as this Jupyter notebook (`functions.ipynb`).\n",
    "If so, that's good, but we need to do one more thing to be able to start working with it.\n",
    "We need to change the working directory in JupyterLab to be the one where the `temp_converter.py` exists.\n",
    "\n",
    "First, we can check where we are working currently using an IPython magic command called `%ls`."
   ]
  },
  {
   "cell_type": "code",
   "execution_count": 21,
   "metadata": {},
   "outputs": [
    {
     "name": "stdout",
     "output_type": "stream",
     "text": [
      "\u001b[34m_static\u001b[m\u001b[m/     conf.py      \u001b[34mimg\u001b[m\u001b[m/         \u001b[34mlessons\u001b[m\u001b[m/\n",
      "\u001b[34m_templates\u001b[m\u001b[m/  \u001b[34mcourse-info\u001b[m\u001b[m/ index.rst    \u001b[34mnotebooks\u001b[m\u001b[m/\n"
     ]
    }
   ],
   "source": [
    "%ls"
   ]
  },
  {
   "cell_type": "markdown",
   "metadata": {},
   "source": [
    "Your output from `%ls` probably looks different than that above, but don't worry.\n",
    "`%ls` allows us to see the files located in the directory where we are currently working.\n",
    "If you are using Binder, you might see\n",
    "\n",
    "```bash\n",
    "L1/  L2/  L3/  L4/  Untitled.ipynb\n",
    "```\n",
    "\n",
    "for example.\n",
    "Those using the CSC notebooks might see something like\n",
    "\n",
    "```bash\n",
    "installations.sh*  Untitled.ipynb  work/\n",
    "```"
   ]
  },
  {
   "cell_type": "markdown",
   "metadata": {},
   "source": [
    "### Changing the working directory\n",
    "\n",
    "Hopefully you've seen some output from `%ls` like that above.\n",
    "Now we need to change into the directory where you've saved your `temp_converter.py` file.\n",
    "\n",
    "#### Binder users\n",
    "\n",
    "Those using Binder should type the following to change into the directory containing the `temp_converter.py` file.\n",
    "\n",
    "```ipython\n",
    "%cd L4/\n",
    "```\n",
    "\n",
    "#### CSC notebooks users\n",
    "\n",
    "Those using the CSC notebooks system should type the following to change into the directory containing the `temp_converter.py` file.\n",
    "\n",
    "```ipython\n",
    "%cd work/notebooks/notebooks/L4/\n",
    "```\n",
    "\n",
    "If all has gone well you should now see `temp_converter.py` among the files when you type `%ls` in a Python cell.\n",
    "Try that out below."
   ]
  },
  {
   "cell_type": "code",
   "execution_count": 25,
   "metadata": {},
   "outputs": [
    {
     "name": "stdout",
     "output_type": "stream",
     "text": [
      "\u001b[34m__pycache__\u001b[m\u001b[m/           \u001b[34mimg\u001b[m\u001b[m/                   writing-scripts.ipynb\n",
      "functions.ipynb        temp_converter.py\n"
     ]
    }
   ],
   "source": [
    "%ls"
   ]
  },
  {
   "cell_type": "markdown",
   "metadata": {},
   "source": [
    "Now we can continue."
   ]
  },
  {
   "cell_type": "markdown",
   "metadata": {},
   "source": [
    "### Importing our script functions\n",
    "\n",
    "Let's now import our `celsiusToFahr()` function from the other script by adding a specific `import` statementain the Python cell below."
   ]
  },
  {
   "cell_type": "code",
   "execution_count": 26,
   "metadata": {},
   "outputs": [],
   "source": [
    "from temp_converter import celsiusToFahr"
   ]
  },
  {
   "cell_type": "markdown",
   "metadata": {},
   "source": [
    "### Using our script functions\n",
    "\n",
    "Let's also use the function so that we can see that it is working."
   ]
  },
  {
   "cell_type": "code",
   "execution_count": 27,
   "metadata": {},
   "outputs": [
    {
     "name": "stdout",
     "output_type": "stream",
     "text": [
      "The freezing point of water in Fahrenheit is: 32.0\n"
     ]
    }
   ],
   "source": [
    "print(\"The freezing point of water in Fahrenheit is:\", celsiusToFahr(0))"
   ]
  },
  {
   "cell_type": "markdown",
   "metadata": {},
   "source": [
    "You should get following output:\n",
    "\n",
    "<figure>\n",
    "  <img src=\"img/script-test.png\" alt=\"Testing our imported functions\" width=\"400\"/>\n",
    "  <figcaption>Testing our imported functions in JupyterLab.</figcaption>\n",
    "</figure>\n",
    "\n",
    "#### Importing multiple functions\n",
    "\n",
    "It is also possible to import more functions at the same time by listing and separating them with a comma.\n",
    "\n",
    "```python\n",
    "from my_script import func1, func2, func3\n",
    "```\n",
    "\n",
    "### Importing all functions from a script\n",
    "\n",
    "Sometimes it is useful to import the whole script and all of its functions at once.\n",
    "Let's use a different `import` statement and test that all functions work."
   ]
  },
  {
   "cell_type": "code",
   "execution_count": 28,
   "metadata": {},
   "outputs": [],
   "source": [
    "import temp_converter as tc"
   ]
  },
  {
   "cell_type": "code",
   "execution_count": 29,
   "metadata": {},
   "outputs": [
    {
     "name": "stdout",
     "output_type": "stream",
     "text": [
      "The freezing point of water in Fahrenheit is: 32.0\n"
     ]
    }
   ],
   "source": [
    "print(\"The freezing point of water in Fahrenheit is:\", tc.celsiusToFahr(0))"
   ]
  },
  {
   "cell_type": "code",
   "execution_count": 30,
   "metadata": {},
   "outputs": [
    {
     "name": "stdout",
     "output_type": "stream",
     "text": [
      "Absolute zero in Celsius is: -273.15\n"
     ]
    }
   ],
   "source": [
    "print('Absolute zero in Celsius is:', tc.kelvinsToCelsius(tempKelvins=0))"
   ]
  },
  {
   "cell_type": "code",
   "execution_count": 31,
   "metadata": {},
   "outputs": [
    {
     "name": "stdout",
     "output_type": "stream",
     "text": [
      "Absolute zero in Fahrenheit is: -459.66999999999996\n"
     ]
    }
   ],
   "source": [
    "print('Absolute zero in Fahrenheit is:', tc.kelvinsToFahrenheit(tempKelvins=0))"
   ]
  },
  {
   "cell_type": "markdown",
   "metadata": {},
   "source": [
    "Temperature calculator (optional, advanced topic)\n",
    "\n",
    "So far our functions have had only one parameter, but it is also possible to define a function with multiple parameters. Let’s now make a simple tempCalculator function that accepts temperatures in Kelvins and returns either Celsius or Fahrenheit. The new function will have two parameters:\n",
    "\n",
    "    tempK = The parameter for passing temperature in Kelvin\n",
    "    convertTo = The parameter that determines whether to output should be in Celsius or in Fahrenheit (using letters C or F accordingly)\n",
    "\n",
    "    Let’s start defining our function by giving it a name and setting the parameters:\n",
    "\n",
    "    def tempCalculator(tempK, convertTo):\n",
    "\n",
    "    Next, we need to add conditional statements that check whether the output temperature is wanted in Celsius or Fahrenheit, and then call corresponding function that was imported from the temp_converter.py file.\n",
    "\n",
    "    def tempCalculator(tempK, convertTo):\n",
    "        # Check if user wants the temperature in Celsius\n",
    "        if convertTo == \"C\":\n",
    "            # Convert the value to Celsius using the dedicated function for the task that we imported from another script\n",
    "            convertedTemp = kelvinsToCelsius(tempKelvins=tempK)\n",
    "        elif convertTo == \"F\":\n",
    "            # Convert the value to Fahrenheit using the dedicated function for the task that we imported from another script\n",
    "            convertedTemp = kelvinsToFahrenheit(tempKelvins=tempK)\n",
    "\n",
    "    Next, we need to add a return statement so that our function sends back the value that we are interested in:\n",
    "\n",
    "    def tempCalculator(tempK, convertTo):\n",
    "        # Check if user wants the temperature in Celsius\n",
    "        if convertTo == \"C\":\n",
    "            # Convert the value to Celsius using the dedicated function for the task that we imported from another script\n",
    "            convertedTemp = kelvinsToCelsius(tempKelvins=tempK)\n",
    "        elif convertTo == \"F\":\n",
    "            # Convert the value to Fahrenheit using the dedicated function for the task that we imported from another script\n",
    "            convertedTemp = kelvinsToFahrenheit(tempKelvins=tempK)\n",
    "        # Return the result\n",
    "        return convertedTemp\n",
    "\n",
    "    Lastly, as we want to be good programmers, we add a short docstring at the beginning of our function that tells what the function does and how the parameters work:\n",
    "\n",
    "    def tempCalculator(tempK, convertTo):\n",
    "        \"\"\"\n",
    "        Function for converting temperature in Kelvins to Celsius or Fahrenheit.\n",
    "\n",
    "        Parameters\n",
    "        ----------\n",
    "        tempK: <numerical>\n",
    "            Temperature in Kelvins\n",
    "        convertTo: <str>\n",
    "            Target temperature that can be either Celsius ('C') or Fahrenheit ('F'). Supported values: 'C' | 'F'\n",
    "\n",
    "        Returns\n",
    "        -------\n",
    "        <float>\n",
    "            Converted temperature.\n",
    "        \"\"\"\n",
    "\n",
    "        # Check if user wants the temperature in Celsius\n",
    "        if convertTo == \"C\":\n",
    "            # Convert the value to Celsius using the dedicated function for the task that we imported from another script\n",
    "            convertedTemp = kelvinsToCelsius(tempKelvins=tempK)\n",
    "        elif convertTo == \"F\":\n",
    "            # Convert the value to Fahrenheit using the dedicated function for the task that we imported from another script\n",
    "            convertedTemp = kelvinsToFahrenheit(tempKelvins=tempK)\n",
    "        # Return the result\n",
    "        return convertedTemp\n",
    "\n",
    "    That’s it! Now we have a temperature calculator that has a simple control for the user where s/he can change the output by using the convertTo parameter. Now as we added the short docstring in the beginning of the function we can use the help() function in Python to find out how our function should be used. Run the script and try following:\n",
    "\n",
    "    help(tempCalculator)\n",
    "\n",
    "    Let’s use it:\n",
    "\n",
    "    >>> tempKelvin = 30\n",
    "    >>> temperatureC = tempCalculator(tempK=tempKelvin, convertTo=\"C\")\n",
    "    >>> print(\"Temperature\", tempKelvin, \"in Kelvins is\", temperatureC, \"in Celsius\")\n",
    "    Temperature 30 in Kelvins is -243.14999999999998 in Celsius\n",
    "\n",
    "Footnotes\n",
    "[1]\tThe history log tab can be found from the same panel where we have executed our codes (bottom-right, next to IPython console).\n",
    "[2]\tWhen communicating between script files, it is necessary to keep them in the same folder so that Python can find them (there are other ways but this is the easiest).\n",
    "[3]\tFollowing the principles of good programming import statements that you use should always be written at the top of the script file.\n",
    "[4]\t\n",
    "\n",
    "It is also possible to import functions by using specific the * character:\n",
    "\n",
    "from moduleX import *\n",
    "\n",
    "The downside of using * symbol to import all functions is that you won’t see which functions are imported, unless checking them from the script itself or using the dir() function to list them (see the lesson on modules).\n",
    "\n",
    "Warning\n",
    "\n",
    "We do not recommend importing functions using this approach as there is a risk of function name conflicts when doing this. Please use with caution\n"
   ]
  },
  {
   "cell_type": "code",
   "execution_count": null,
   "metadata": {},
   "outputs": [],
   "source": []
  }
 ],
 "metadata": {
  "kernelspec": {
   "display_name": "Python 3",
   "language": "python",
   "name": "python3"
  },
  "language_info": {
   "codemirror_mode": {
    "name": "ipython",
    "version": 3
   },
   "file_extension": ".py",
   "mimetype": "text/x-python",
   "name": "python",
   "nbconvert_exporter": "python",
   "pygments_lexer": "ipython3",
   "version": "3.6.4"
  }
 },
 "nbformat": 4,
 "nbformat_minor": 2
}
