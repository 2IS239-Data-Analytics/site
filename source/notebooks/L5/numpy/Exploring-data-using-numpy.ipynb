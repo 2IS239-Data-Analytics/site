{
 "cells": [
  {
   "cell_type": "markdown",
   "metadata": {},
   "source": [
    "# Exploring data using NumPy\n",
    "\n",
    "Our first task in this week's lesson is to learn how to read and explore data files using [NumPy](http://www.numpy.org/).\n",
    "Reading data files using Pandas will make life a bit easier compared to the traditional Python way of reading data files.\n",
    "If you're curious about that, you can check out some of the lesson materials from past years about [reading data in the Pythonic way](https://geo-python.github.io/2018/2017/lessons/L5/reading-data-from-file.html)."
   ]
  },
  {
   "cell_type": "markdown",
   "metadata": {},
   "source": [
    "## Preparation (the key to success)\n",
    "\n",
    "Presumably you have already opened this Jupyter notebook (if not, do so now using one of the links above), and our first task is to change the working directory to the one containing the files for this week's lesson.\n",
    "You can do that by...XXX."
   ]
  },
  {
   "cell_type": "markdown",
   "metadata": {},
   "source": [
    "## Reading a data file with NumPy\n",
    "\n",
    "### Importing NumPy\n",
    "\n",
    "Now we're ready to read in our temperature data file.\n",
    "First, we need to import the NumPy module."
   ]
  },
  {
   "cell_type": "code",
   "execution_count": 2,
   "metadata": {},
   "outputs": [],
   "source": [
    "import numpy as np"
   ]
  },
  {
   "cell_type": "markdown",
   "metadata": {},
   "source": [
    "That's it!\n",
    "NumPy is now ready to use.\n",
    "Notice that we have imported the NumPy module with the name `np`."
   ]
  },
  {
   "cell_type": "markdown",
   "metadata": {},
   "source": [
    "### Reading a data file\n",
    "\n",
    "Now we'll read the file data into a variable called `data`.\n",
    "We can start by defining the location (filepath) of the data file in the variable `fp`."
   ]
  },
  {
   "cell_type": "code",
   "execution_count": 59,
   "metadata": {},
   "outputs": [],
   "source": [
    "fp = 'Kumpula-June-2016-w-metadata.txt'"
   ]
  },
  {
   "cell_type": "markdown",
   "metadata": {},
   "source": [
    "Now we can read the file using the NumPy `genfromtxt()` function."
   ]
  },
  {
   "cell_type": "code",
   "execution_count": 57,
   "metadata": {},
   "outputs": [],
   "source": [
    "data = np.genfromtxt(fp)"
   ]
  },
  {
   "cell_type": "markdown",
   "metadata": {},
   "source": [
    "`np.genfromtxt()` is a general function for reading data files separated by commas, spaces, or other common separators.\n",
    "For a full list of parameters for this function, please refer to the [NumPy documentation for numpy.genfromtxt()](https://docs.scipy.org/doc/numpy/reference/generated/numpy.genfromtxt.html).\n",
    "\n",
    "Here we use the function simply by giving the filename as an input parameter.\n",
    "If all goes as planned, you should now have a new variable defined as `data` in memory that contains the contents of the data file.\n",
    "You can check the the contents of this variable by typing the following:"
   ]
  },
  {
   "cell_type": "code",
   "execution_count": 58,
   "metadata": {},
   "outputs": [
    {
     "name": "stdout",
     "output_type": "stream",
     "text": [
      "[ nan  nan  nan  nan  nan  nan  nan  nan  nan  nan  nan  nan  nan  nan  nan\n",
      "  nan  nan  nan  nan  nan  nan  nan  nan  nan  nan  nan  nan  nan  nan  nan\n",
      "  nan]\n"
     ]
    }
   ],
   "source": [
    "print(data)"
   ]
  },
  {
   "cell_type": "markdown",
   "metadata": {},
   "source": [
    "### Inspecting our data file\n",
    "\n",
    "Hmm...something doesn't look right here.\n",
    "You were perhaps expecting some temperature data, right?\n",
    "Instead we have only a list of `nan` values.\n",
    "\n",
    "`nan` stands for \"not a number\", and might indicate some problem with reading in the contents of the file.\n",
    "Looks like we need to investigate this further.\n",
    "\n",
    "We can begin our investigation by opening the data file in JupyterLab by right-clicking on the `Kumpula-June-2016-w-metadata.txt` data file and selecting **Open**.\n",
    "\n",
    "![Opening a file in JupyterLab](img/open-text-file.png)\n",
    "\n",
    "You should see something like the following:"
   ]
  },
  {
   "cell_type": "raw",
   "metadata": {},
   "source": [
    "# Data file contents: Daily temperatures (mean, min, max) for Kumpula, Helsinki\n",
    "#                     for June 1-30, 2016\n",
    "# Data source: https://www.ncdc.noaa.gov/cdo-web/search?datasetid=GHCND\n",
    "# Data processing: Extracted temperatures from raw data file, converted to\n",
    "#                  comma-separated format\n",
    "#\n",
    "# David Whipp - 02.10.2017\n",
    "\n",
    "YEARMODA,TEMP,MAX,MIN\n",
    "20160601,65.5,73.6,54.7\n",
    "20160602,65.8,80.8,55.0\n",
    "..."
   ]
  },
  {
   "cell_type": "markdown",
   "metadata": {},
   "source": [
    "We can observe a few important things:\n",
    "\n",
    "- There are some metadata at the top of the file (a *header*) that provide basic information about its contents and source.\n",
    "  This isn’t data we want to process, so we need to skip over that part of the file when we load it.\n",
    "    - We can skip the top header lines in the file using the `skip_header` parameter.\n",
    "- The values in the data file are separated by commas.\n",
    "    - We can specify the value separator using the `delimiter` parameter.\n",
    "- The top row of values below the header contains names of the column variables.\n",
    "    - We can tell NumPy to use those names using the `names` parameter."
   ]
  },
  {
   "cell_type": "markdown",
   "metadata": {},
   "source": [
    "### Reading our data file, round 2\n",
    "\n",
    "Let's try reading again with this information in mind."
   ]
  },
  {
   "cell_type": "code",
   "execution_count": 74,
   "metadata": {},
   "outputs": [],
   "source": [
    "data = np.genfromtxt(fp, skip_header=8, delimiter=',', names=True)"
   ]
  },
  {
   "cell_type": "markdown",
   "metadata": {},
   "source": [
    "Note that we now skip the header lines (first 8 lines) using `skip_header=8`, tell NumPy the files is comma-separated using `delimiter=','`, and tell NumPy to use the first line it reads in the data file for the names using `names=True`."
   ]
  },
  {
   "cell_type": "code",
   "execution_count": 72,
   "metadata": {},
   "outputs": [
    {
     "name": "stdout",
     "output_type": "stream",
     "text": [
      "[( 20160601.,  65.5,  73.6,  54.7) ( 20160602.,  65.8,  80.8,  55. )\n",
      " ( 20160603.,  68.4,  77.9,  55.6) ( 20160604.,  57.5,  70.9,  47.3)\n",
      " ( 20160605.,  51.4,  58.3,  43.2) ( 20160606.,  52.2,  59.7,  42.8)\n",
      " ( 20160607.,  56.9,  65.1,  45.9) ( 20160608.,  54.2,  60.4,  47.5)\n",
      " ( 20160609.,  49.4,  54.1,  45.7) ( 20160610.,  49.5,  55.9,  43. )\n",
      " ( 20160611.,  54. ,  62.1,  41.7) ( 20160612.,  55.4,  64.2,  46. )\n",
      " ( 20160613.,  58.3,  68.2,  47.3) ( 20160614.,  59.7,  67.8,  47.8)\n",
      " ( 20160615.,  63.4,  70.3,  49.3) ( 20160616.,  57.8,  67.5,  55.6)\n",
      " ( 20160617.,  60.4,  70.7,  55.9) ( 20160618.,  57.3,  62.8,  54. )\n",
      " ( 20160619.,  56.3,  59.2,  54.1) ( 20160620.,  59.3,  69.1,  52.2)\n",
      " ( 20160621.,  62.6,  71.4,  50.4) ( 20160622.,  61.7,  70.2,  55.4)\n",
      " ( 20160623.,  60.9,  67.1,  54.9) ( 20160624.,  61.1,  68.9,  56.7)\n",
      " ( 20160625.,  65.7,  75.4,  57.9) ( 20160626.,  69.6,  77.7,  60.3)\n",
      " ( 20160627.,  60.7,  70. ,  57.6) ( 20160628.,  65.4,  73. ,  55.8)\n",
      " ( 20160629.,  65.8,  73.2,  59.7) ( 20160630.,  65.7,  72.7,  59.2)]\n"
     ]
    }
   ],
   "source": [
    "print(data)"
   ]
  },
  {
   "cell_type": "code",
   "execution_count": 70,
   "metadata": {},
   "outputs": [
    {
     "data": {
      "text/plain": [
       "array([( 20160601.,  65.5,  73.6,  54.7),\n",
       "       ( 20160602.,  65.8,  80.8,  55. ),\n",
       "       ( 20160603.,  68.4,  77.9,  55.6),\n",
       "       ( 20160604.,  57.5,  70.9,  47.3),\n",
       "       ( 20160605.,  51.4,  58.3,  43.2),\n",
       "       ( 20160606.,  52.2,  59.7,  42.8),\n",
       "       ( 20160607.,  56.9,  65.1,  45.9),\n",
       "       ( 20160608.,  54.2,  60.4,  47.5),\n",
       "       ( 20160609.,  49.4,  54.1,  45.7),\n",
       "       ( 20160610.,  49.5,  55.9,  43. ),\n",
       "       ( 20160611.,  54. ,  62.1,  41.7),\n",
       "       ( 20160612.,  55.4,  64.2,  46. ),\n",
       "       ( 20160613.,  58.3,  68.2,  47.3),\n",
       "       ( 20160614.,  59.7,  67.8,  47.8),\n",
       "       ( 20160615.,  63.4,  70.3,  49.3),\n",
       "       ( 20160616.,  57.8,  67.5,  55.6),\n",
       "       ( 20160617.,  60.4,  70.7,  55.9),\n",
       "       ( 20160618.,  57.3,  62.8,  54. ),\n",
       "       ( 20160619.,  56.3,  59.2,  54.1),\n",
       "       ( 20160620.,  59.3,  69.1,  52.2),\n",
       "       ( 20160621.,  62.6,  71.4,  50.4),\n",
       "       ( 20160622.,  61.7,  70.2,  55.4),\n",
       "       ( 20160623.,  60.9,  67.1,  54.9),\n",
       "       ( 20160624.,  61.1,  68.9,  56.7),\n",
       "       ( 20160625.,  65.7,  75.4,  57.9),\n",
       "       ( 20160626.,  69.6,  77.7,  60.3),\n",
       "       ( 20160627.,  60.7,  70. ,  57.6),\n",
       "       ( 20160628.,  65.4,  73. ,  55.8),\n",
       "       ( 20160629.,  65.8,  73.2,  59.7), ( 20160630.,  65.7,  72.7,  59.2)],\n",
       "      dtype=[('YEARMODA', '<f8'), ('TEMP', '<f8'), ('MAX', '<f8'), ('MIN', '<f8')])"
      ]
     },
     "execution_count": 70,
     "metadata": {},
     "output_type": "execute_result"
    }
   ],
   "source": [
    "data"
   ]
  },
  {
   "cell_type": "code",
   "execution_count": 18,
   "metadata": {},
   "outputs": [
    {
     "data": {
      "text/plain": [
       "array([( 20160601.,  65.5,  73.6,  54.7),\n",
       "       ( 20160602.,  65.8,  80.8,  55. ),\n",
       "       ( 20160603.,  68.4,  77.9,  55.6),\n",
       "       ( 20160604.,  57.5,  70.9,  47.3),\n",
       "       ( 20160605.,  51.4,  58.3,  43.2),\n",
       "       ( 20160606.,  52.2,  59.7,  42.8),\n",
       "       ( 20160607.,  56.9,  65.1,  45.9),\n",
       "       ( 20160608.,  54.2,  60.4,  47.5),\n",
       "       ( 20160609.,  49.4,  54.1,  45.7),\n",
       "       ( 20160610.,  49.5,  55.9,  43. ),\n",
       "       ( 20160611.,  54. ,  62.1,  41.7),\n",
       "       ( 20160612.,  55.4,  64.2,  46. ),\n",
       "       ( 20160613.,  58.3,  68.2,  47.3),\n",
       "       ( 20160614.,  59.7,  67.8,  47.8),\n",
       "       ( 20160615.,  63.4,  70.3,  49.3),\n",
       "       ( 20160616.,  57.8,  67.5,  55.6),\n",
       "       ( 20160617.,  60.4,  70.7,  55.9),\n",
       "       ( 20160618.,  57.3,  62.8,  54. ),\n",
       "       ( 20160619.,  56.3,  59.2,  54.1),\n",
       "       ( 20160620.,  59.3,  69.1,  52.2),\n",
       "       ( 20160621.,  62.6,  71.4,  50.4),\n",
       "       ( 20160622.,  61.7,  70.2,  55.4),\n",
       "       ( 20160623.,  60.9,  67.1,  54.9),\n",
       "       ( 20160624.,  61.1,  68.9,  56.7),\n",
       "       ( 20160625.,  65.7,  75.4,  57.9),\n",
       "       ( 20160626.,  69.6,  77.7,  60.3),\n",
       "       ( 20160627.,  60.7,  70. ,  57.6),\n",
       "       ( 20160628.,  65.4,  73. ,  55.8),\n",
       "       ( 20160629.,  65.8,  73.2,  59.7), ( 20160630.,  65.7,  72.7,  59.2)],\n",
       "      dtype=[('YEARMODA', '<f8'), ('TEMP', '<f8'), ('MAX', '<f8'), ('MIN', '<f8')])"
      ]
     },
     "execution_count": 18,
     "metadata": {},
     "output_type": "execute_result"
    }
   ],
   "source": [
    "data"
   ]
  },
  {
   "cell_type": "code",
   "execution_count": 42,
   "metadata": {},
   "outputs": [
    {
     "data": {
      "text/plain": [
       "array([ 20160601.,  20160602.,  20160603.,  20160604.,  20160605.])"
      ]
     },
     "execution_count": 42,
     "metadata": {},
     "output_type": "execute_result"
    }
   ],
   "source": [
    "data['YEARMODA'][:5]\n"
   ]
  },
  {
   "cell_type": "code",
   "execution_count": null,
   "metadata": {},
   "outputs": [],
   "source": []
  }
 ],
 "metadata": {
  "kernelspec": {
   "display_name": "Python 3",
   "language": "python",
   "name": "python3"
  },
  "language_info": {
   "codemirror_mode": {
    "name": "ipython",
    "version": 3
   },
   "file_extension": ".py",
   "mimetype": "text/x-python",
   "name": "python",
   "nbconvert_exporter": "python",
   "pygments_lexer": "ipython3",
   "version": "3.6.4"
  }
 },
 "nbformat": 4,
 "nbformat_minor": 2
}
